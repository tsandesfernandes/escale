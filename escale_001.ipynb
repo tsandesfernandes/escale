{
  "nbformat": 4,
  "nbformat_minor": 0,
  "metadata": {
    "colab": {
      "name": "escale_001.ipynb",
      "provenance": [],
      "authorship_tag": "ABX9TyORBErFldJBN4h3vq/hqn1C",
      "include_colab_link": true
    },
    "kernelspec": {
      "name": "python3",
      "display_name": "Python 3"
    }
  },
  "cells": [
    {
      "cell_type": "markdown",
      "metadata": {
        "id": "view-in-github",
        "colab_type": "text"
      },
      "source": [
        "<a href=\"https://colab.research.google.com/github/tsandesfernandes/escale/blob/master/escale_001.ipynb\" target=\"_parent\"><img src=\"https://colab.research.google.com/assets/colab-badge.svg\" alt=\"Open In Colab\"/></a>"
      ]
    },
    {
      "cell_type": "code",
      "metadata": {
        "id": "uTkouRd1p1XZ",
        "colab_type": "code",
        "colab": {
          "base_uri": "https://localhost:8080/",
          "height": 122
        },
        "outputId": "74aff1fa-c5d7-495b-9874-49dd63f83430"
      },
      "source": [
        "from google.colab import drive\n",
        "import os\n"
      ],
      "execution_count": null,
      "outputs": [
        {
          "output_type": "stream",
          "text": [
            "Go to this URL in a browser: https://accounts.google.com/o/oauth2/auth?client_id=947318989803-6bn6qk8qdgf4n4g3pfee6491hc0brc4i.apps.googleusercontent.com&redirect_uri=urn%3aietf%3awg%3aoauth%3a2.0%3aoob&response_type=code&scope=email%20https%3a%2f%2fwww.googleapis.com%2fauth%2fdocs.test%20https%3a%2f%2fwww.googleapis.com%2fauth%2fdrive%20https%3a%2f%2fwww.googleapis.com%2fauth%2fdrive.photos.readonly%20https%3a%2f%2fwww.googleapis.com%2fauth%2fpeopleapi.readonly\n",
            "\n",
            "Enter your authorization code:\n",
            "··········\n",
            "Mounted at /content/gdrive\n"
          ],
          "name": "stdout"
        }
      ]
    },
    {
      "cell_type": "code",
      "metadata": {
        "id": "ml6fqXdbp-e2",
        "colab_type": "code",
        "colab": {}
      },
      "source": [
        "drive.mount('/content/gdrive')"
      ],
      "execution_count": null,
      "outputs": []
    },
    {
      "cell_type": "code",
      "metadata": {
        "id": "z4EZo_5Sqamn",
        "colab_type": "code",
        "colab": {}
      },
      "source": [
        "#!mkdir /content/gdrive/My Drive/escale/\n",
        "root_path = '/content/gdrive/My Drive/escale/'"
      ],
      "execution_count": null,
      "outputs": []
    },
    {
      "cell_type": "code",
      "metadata": {
        "id": "BoFxv_3Dqn_t",
        "colab_type": "code",
        "colab": {
          "base_uri": "https://localhost:8080/",
          "height": 34
        },
        "outputId": "b86d39bf-7693-43b9-a4b3-f987c49918a6"
      },
      "source": [
        "[x[0]  for x in os.walk(os.getcwd())]"
      ],
      "execution_count": null,
      "outputs": [
        {
          "output_type": "execute_result",
          "data": {
            "text/plain": [
              "['/content/gdrive/My Drive/escale']"
            ]
          },
          "metadata": {
            "tags": []
          },
          "execution_count": 18
        }
      ]
    },
    {
      "cell_type": "code",
      "metadata": {
        "id": "TjQQyKQ3rHEs",
        "colab_type": "code",
        "colab": {}
      },
      "source": [
        "os.chdir(root_path)"
      ],
      "execution_count": null,
      "outputs": []
    },
    {
      "cell_type": "code",
      "metadata": {
        "id": "uapUf6tAsTMv",
        "colab_type": "code",
        "colab": {
          "base_uri": "https://localhost:8080/",
          "height": 1000
        },
        "outputId": "0e275a10-2521-406f-8a8c-420013e9d4db"
      },
      "source": [
        "!wget https://d3l36jjwr70u5l.cloudfront.net/data-engineer-test/part-00000.json.gz\n",
        "!wget https://d3l36jjwr70u5l.cloudfront.net/data-engineer-test/part-00001.json.gz\n",
        "!wget https://d3l36jjwr70u5l.cloudfront.net/data-engineer-test/part-00002.json.gz\n",
        "!wget https://d3l36jjwr70u5l.cloudfront.net/data-engineer-test/part-00003.json.gz\n",
        "!wget https://d3l36jjwr70u5l.cloudfront.net/data-engineer-test/part-00004.json.gz\n",
        "!wget https://d3l36jjwr70u5l.cloudfront.net/data-engineer-test/part-00005.json.gz\n",
        "!wget https://d3l36jjwr70u5l.cloudfront.net/data-engineer-test/part-00006.json.gz\n",
        "!wget https://d3l36jjwr70u5l.cloudfront.net/data-engineer-test/part-00007.json.gz\n",
        "!wget https://d3l36jjwr70u5l.cloudfront.net/data-engineer-test/part-00008.json.gz\n",
        "!wget https://d3l36jjwr70u5l.cloudfront.net/data-engineer-test/part-00009.json.gz"
      ],
      "execution_count": null,
      "outputs": [
        {
          "output_type": "stream",
          "text": [
            "--2020-08-01 20:24:39--  https://d3l36jjwr70u5l.cloudfront.net/data-engineer-test/part-00000.json.gz\n",
            "Resolving d3l36jjwr70u5l.cloudfront.net (d3l36jjwr70u5l.cloudfront.net)... 13.32.80.27, 13.32.80.35, 13.32.80.148, ...\n",
            "Connecting to d3l36jjwr70u5l.cloudfront.net (d3l36jjwr70u5l.cloudfront.net)|13.32.80.27|:443... connected.\n",
            "HTTP request sent, awaiting response... 200 OK\n",
            "Length: 339116247 (323M) [application/json]\n",
            "Saving to: ‘part-00000.json.gz’\n",
            "\n",
            "part-00000.json.gz  100%[===================>] 323.41M  44.6MB/s    in 7.6s    \n",
            "\n",
            "2020-08-01 20:24:48 (42.5 MB/s) - ‘part-00000.json.gz’ saved [339116247/339116247]\n",
            "\n",
            "--2020-08-01 20:24:49--  https://d3l36jjwr70u5l.cloudfront.net/data-engineer-test/part-00001.json.gz\n",
            "Resolving d3l36jjwr70u5l.cloudfront.net (d3l36jjwr70u5l.cloudfront.net)... 13.32.80.27, 13.32.80.35, 13.32.80.148, ...\n",
            "Connecting to d3l36jjwr70u5l.cloudfront.net (d3l36jjwr70u5l.cloudfront.net)|13.32.80.27|:443... connected.\n",
            "HTTP request sent, awaiting response... 200 OK\n",
            "Length: 338985062 (323M) [application/json]\n",
            "Saving to: ‘part-00001.json.gz’\n",
            "\n",
            "part-00001.json.gz  100%[===================>] 323.28M  47.5MB/s    in 7.1s    \n",
            "\n",
            "2020-08-01 20:24:56 (45.5 MB/s) - ‘part-00001.json.gz’ saved [338985062/338985062]\n",
            "\n",
            "--2020-08-01 20:24:57--  https://d3l36jjwr70u5l.cloudfront.net/data-engineer-test/part-00002.json.gz\n",
            "Resolving d3l36jjwr70u5l.cloudfront.net (d3l36jjwr70u5l.cloudfront.net)... 13.32.80.27, 13.32.80.35, 13.32.80.148, ...\n",
            "Connecting to d3l36jjwr70u5l.cloudfront.net (d3l36jjwr70u5l.cloudfront.net)|13.32.80.27|:443... connected.\n",
            "HTTP request sent, awaiting response... 200 OK\n",
            "Length: 338876724 (323M) [application/json]\n",
            "Saving to: ‘part-00002.json.gz’\n",
            "\n",
            "part-00002.json.gz  100%[===================>] 323.18M  29.5MB/s    in 12s     \n",
            "\n",
            "2020-08-01 20:25:10 (26.2 MB/s) - ‘part-00002.json.gz’ saved [338876724/338876724]\n",
            "\n",
            "--2020-08-01 20:25:11--  https://d3l36jjwr70u5l.cloudfront.net/data-engineer-test/part-00003.json.gz\n",
            "Resolving d3l36jjwr70u5l.cloudfront.net (d3l36jjwr70u5l.cloudfront.net)... 13.32.80.27, 13.32.80.35, 13.32.80.148, ...\n",
            "Connecting to d3l36jjwr70u5l.cloudfront.net (d3l36jjwr70u5l.cloudfront.net)|13.32.80.27|:443... connected.\n",
            "HTTP request sent, awaiting response... 200 OK\n",
            "Length: 339060665 (323M) [application/json]\n",
            "Saving to: ‘part-00003.json.gz’\n",
            "\n",
            "part-00003.json.gz  100%[===================>] 323.35M  36.9MB/s    in 8.4s    \n",
            "\n",
            "2020-08-01 20:25:20 (38.6 MB/s) - ‘part-00003.json.gz’ saved [339060665/339060665]\n",
            "\n",
            "--2020-08-01 20:25:21--  https://d3l36jjwr70u5l.cloudfront.net/data-engineer-test/part-00004.json.gz\n",
            "Resolving d3l36jjwr70u5l.cloudfront.net (d3l36jjwr70u5l.cloudfront.net)... 13.32.80.27, 13.32.80.35, 13.32.80.148, ...\n",
            "Connecting to d3l36jjwr70u5l.cloudfront.net (d3l36jjwr70u5l.cloudfront.net)|13.32.80.27|:443... connected.\n",
            "HTTP request sent, awaiting response... 200 OK\n",
            "Length: 339061238 (323M) [application/json]\n",
            "Saving to: ‘part-00004.json.gz’\n",
            "\n",
            "part-00004.json.gz  100%[===================>] 323.35M  40.5MB/s    in 8.1s    \n",
            "\n",
            "2020-08-01 20:25:29 (39.9 MB/s) - ‘part-00004.json.gz’ saved [339061238/339061238]\n",
            "\n",
            "--2020-08-01 20:25:30--  https://d3l36jjwr70u5l.cloudfront.net/data-engineer-test/part-00005.json.gz\n",
            "Resolving d3l36jjwr70u5l.cloudfront.net (d3l36jjwr70u5l.cloudfront.net)... 13.32.80.27, 13.32.80.35, 13.32.80.148, ...\n",
            "Connecting to d3l36jjwr70u5l.cloudfront.net (d3l36jjwr70u5l.cloudfront.net)|13.32.80.27|:443... connected.\n",
            "HTTP request sent, awaiting response... 200 OK\n",
            "Length: 339122401 (323M) [application/json]\n",
            "Saving to: ‘part-00005.json.gz’\n",
            "\n",
            "part-00005.json.gz  100%[===================>] 323.41M  39.8MB/s    in 7.8s    \n",
            "\n",
            "2020-08-01 20:25:39 (41.2 MB/s) - ‘part-00005.json.gz’ saved [339122401/339122401]\n",
            "\n",
            "--2020-08-01 20:25:40--  https://d3l36jjwr70u5l.cloudfront.net/data-engineer-test/part-00006.json.gz\n",
            "Resolving d3l36jjwr70u5l.cloudfront.net (d3l36jjwr70u5l.cloudfront.net)... 13.32.80.27, 13.32.80.35, 13.32.80.148, ...\n",
            "Connecting to d3l36jjwr70u5l.cloudfront.net (d3l36jjwr70u5l.cloudfront.net)|13.32.80.27|:443... connected.\n",
            "HTTP request sent, awaiting response... 200 OK\n",
            "Length: 339039152 (323M) [application/json]\n",
            "Saving to: ‘part-00006.json.gz’\n",
            "\n",
            "part-00006.json.gz  100%[===================>] 323.33M  35.1MB/s    in 8.0s    \n",
            "\n",
            "2020-08-01 20:25:48 (40.6 MB/s) - ‘part-00006.json.gz’ saved [339039152/339039152]\n",
            "\n",
            "--2020-08-01 20:25:49--  https://d3l36jjwr70u5l.cloudfront.net/data-engineer-test/part-00007.json.gz\n",
            "Resolving d3l36jjwr70u5l.cloudfront.net (d3l36jjwr70u5l.cloudfront.net)... 13.32.80.27, 13.32.80.35, 13.32.80.148, ...\n",
            "Connecting to d3l36jjwr70u5l.cloudfront.net (d3l36jjwr70u5l.cloudfront.net)|13.32.80.27|:443... connected.\n",
            "HTTP request sent, awaiting response... 200 OK\n",
            "Length: 339145752 (323M) [application/json]\n",
            "Saving to: ‘part-00007.json.gz’\n",
            "\n",
            "part-00007.json.gz  100%[===================>] 323.43M  35.4MB/s    in 8.1s    \n",
            "\n",
            "2020-08-01 20:25:58 (40.0 MB/s) - ‘part-00007.json.gz’ saved [339145752/339145752]\n",
            "\n",
            "--2020-08-01 20:25:58--  https://d3l36jjwr70u5l.cloudfront.net/data-engineer-test/part-00008.json.gz\n",
            "Resolving d3l36jjwr70u5l.cloudfront.net (d3l36jjwr70u5l.cloudfront.net)... 13.32.80.27, 13.32.80.35, 13.32.80.148, ...\n",
            "Connecting to d3l36jjwr70u5l.cloudfront.net (d3l36jjwr70u5l.cloudfront.net)|13.32.80.27|:443... connected.\n",
            "HTTP request sent, awaiting response... 200 OK\n",
            "Length: 338908163 (323M) [application/json]\n",
            "Saving to: ‘part-00008.json.gz’\n",
            "\n",
            "part-00008.json.gz  100%[===================>] 323.21M  39.4MB/s    in 8.0s    \n",
            "\n",
            "2020-08-01 20:26:07 (40.7 MB/s) - ‘part-00008.json.gz’ saved [338908163/338908163]\n",
            "\n",
            "--2020-08-01 20:26:08--  https://d3l36jjwr70u5l.cloudfront.net/data-engineer-test/part-00009.json.gz\n",
            "Resolving d3l36jjwr70u5l.cloudfront.net (d3l36jjwr70u5l.cloudfront.net)... 13.32.80.27, 13.32.80.35, 13.32.80.148, ...\n",
            "Connecting to d3l36jjwr70u5l.cloudfront.net (d3l36jjwr70u5l.cloudfront.net)|13.32.80.27|:443... connected.\n",
            "HTTP request sent, awaiting response... 200 OK\n",
            "Length: 338922772 (323M) [application/json]\n",
            "Saving to: ‘part-00009.json.gz’\n",
            "\n",
            "part-00009.json.gz  100%[===================>] 323.22M  43.3MB/s    in 7.5s    \n",
            "\n",
            "2020-08-01 20:26:16 (43.2 MB/s) - ‘part-00009.json.gz’ saved [338922772/338922772]\n",
            "\n"
          ],
          "name": "stdout"
        }
      ]
    },
    {
      "cell_type": "code",
      "metadata": {
        "id": "HqelCA1Msqb0",
        "colab_type": "code",
        "colab": {}
      },
      "source": [
        ""
      ],
      "execution_count": null,
      "outputs": []
    }
  ]
}